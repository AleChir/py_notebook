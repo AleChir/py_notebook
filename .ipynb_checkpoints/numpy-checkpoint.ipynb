{
 "cells": [
  {
   "cell_type": "markdown",
   "metadata": {},
   "source": [
    "# Numpy"
   ]
  },
  {
   "cell_type": "markdown",
   "metadata": {},
   "source": [
    "## 1 - Arrays"
   ]
  },
  {
   "cell_type": "markdown",
   "metadata": {},
   "source": [
    "<p>Numpy arrays are fixed-type contiguous collections with high flexibility and efficiency in indexing methods and operations. There are several data types that can be used for arrays, the most common are:</p>\n",
    "<ul>\n",
    "<li><em>int8, int16, int32, int64</em></li>\n",
    "<li><em>uint8, uint16, uint32, uint64</em></li>\n",
    "<li><em>float16, float16, float64</em></li>\n",
    "<li><em>complex64, complex128</em></li>\n",
    "<li><em>bool</em></li>\n",
    "</ul>\n",
    "<p><strong>Multidimensiona arrays</strong></p>\n",
    "<p>Each array is characterized by a set of&nbsp;<strong>axes&nbsp;</strong>and a&nbsp;<strong>shape</strong>. The axes of an array define its dimensions:</p>\n",
    "<ul>\n",
    "<li>a row vectos has 1 axis</li>\n",
    "<li>a 2D matrix has 2 axes</li>\n",
    "<li>a ND array has N axes</li>\n",
    "</ul>\n",
    "<p><img src=\"./img/n2.png\" alt=\"\" width=\"348\" height=\"100\" /></p>\n",
    "<p>Axes can be numbered with negative values, the axis with index -1 is always along the <strong>row</strong>, while the last dimension added always take the lowest value (with sign) both with positive and negative indexing.</p>\n",
    "<p>The <strong>shape</strong> of an array is a tuple that specifies the number of elements along each axis. a column vector is a 2D matrix.</p>\n",
    "<p><img src=\"./img/n3.png\" alt=\"\" width=\"348\" height=\"100\" /></p>\n",
    "<p><img src=\"./img/n4.png\" alt=\"\" width=\"348\" height=\"100\" /></p>"
   ]
  },
  {
   "cell_type": "code",
   "execution_count": 4,
   "metadata": {},
   "outputs": [
    {
     "data": {
      "text/plain": [
       "array([[1, 2, 3],\n",
       "       [4, 5, 6],\n",
       "       [7, 8, 9]], dtype=uint8)"
      ]
     },
     "execution_count": 4,
     "metadata": {},
     "output_type": "execute_result"
    }
   ],
   "source": [
    "import numpy as np\n",
    "\n",
    "matrix = [[1, 2, 3], \n",
    "          [4, 5, 6], \n",
    "          [7, 8, 9]]\n",
    "\n",
    "np.array(matrix, dtype=np.uint8)"
   ]
  },
  {
   "cell_type": "code",
   "execution_count": 2,
   "metadata": {},
   "outputs": [
    {
     "name": "stdout",
     "output_type": "stream",
     "text": [
      "[[0 0 0]\n",
      " [0 0 0]]\n",
      "\n",
      "[[1 1 1]\n",
      " [1 1 1]]\n",
      "\n",
      "[[10 10 10]\n",
      " [10 10 10]\n",
      " [10 10 10]]\n",
      "\n"
     ]
    }
   ],
   "source": [
    "null_matrix = np.zeros((2, 3), dtype=np.int8)\n",
    "id_matrix = np.ones((2, 3), dtype=np.int8)\n",
    "full_matrix = np.full((3, 3), 10, dtype=np.int8)\n",
    "\n",
    "print(null_matrix, end='\\n\\n')\n",
    "print(id_matrix, end='\\n\\n')\n",
    "print(full_matrix, end='\\n\\n')"
   ]
  },
  {
   "cell_type": "code",
   "execution_count": 3,
   "metadata": {},
   "outputs": [
    {
     "name": "stdout",
     "output_type": "stream",
     "text": [
      "[0.         0.11111111 0.22222222 0.33333333 0.44444444 0.55555556\n",
      " 0.66666667 0.77777778 0.88888889 1.        ]\n",
      "\n",
      "[10 12 14 16 18 20]\n",
      "\n",
      "[[5.11983799 5.78470741 4.42754161]\n",
      " [3.55617633 4.58363865 4.51080059]]\n",
      "\n",
      "[[0.07694248 0.55163731 0.09155646 0.57208055]\n",
      " [0.58878897 0.1634618  0.16378468 0.67434533]\n",
      " [0.68032324 0.55294879 0.99821347 0.68774243]]\n",
      "\n"
     ]
    }
   ],
   "source": [
    "#10 sample in range 0-1\n",
    "linear = np.linspace(0, 1, 10)\n",
    "\n",
    "#Sequence 10-20 with step 2\n",
    "step_2 = np.arange(10, 21, 2)\n",
    "\n",
    "#Random (2,3) matrix with normal distribution µ=5 std=2\n",
    "gauss_matrix = np.random.normal(5, 2, (2,3)) \n",
    "\n",
    "#Random (3,4) matrix with uniform distribution on [0,1]\n",
    "uniform_matrix = np.random.random((3, 4))\n",
    "\n",
    "print(linear, end='\\n\\n')\n",
    "print(step_2, end='\\n\\n')\n",
    "print(gauss_matrix, end='\\n\\n')\n",
    "print(uniform_matrix, end='\\n\\n')"
   ]
  },
  {
   "cell_type": "code",
   "execution_count": 4,
   "metadata": {},
   "outputs": [
    {
     "name": "stdout",
     "output_type": "stream",
     "text": [
      "2 (2, 3) 6\n"
     ]
    }
   ],
   "source": [
    "x = np.array([[2, 3, 4], [8, 6, 7]])\n",
    "dimensions = x.ndim \n",
    "matrix_shape = x.shape\n",
    "matrix_size = x.size\n",
    "\n",
    "print(dimensions, matrix_shape, matrix_size)"
   ]
  },
  {
   "cell_type": "markdown",
   "metadata": {},
   "source": [
    "## 2 - Computation on Numpy"
   ]
  },
  {
   "cell_type": "markdown",
   "metadata": {},
   "source": [
    "<p><strong>Universal Functions (element-wise)</strong></p>\n",
    "<ul>\n",
    "<li><strong>Binary</strong> operations with arrays of the <strong>same shape</strong><br />\n",
    "<ul>\n",
    "<li>sum &amp; subtraction (+ -)</li>\n",
    "<li>multiplication &amp; division (* /)</li>\n",
    "<li>modulus (%)</li>\n",
    "<li>floor division (//)</li>\n",
    "<li>exponentiation (**)</li>\n",
    "<p><img src=\"./img/n5.png\" alt=\"\" width=\"450\" height=\"100\" /></p>\n",
    "</ul>\n",
    "</li>\n",
    "<li><strong>Unary&nbsp;</strong>operations (apply the operation separately to each element of the array)\n",
    "<ul>\n",
    "<li>np.abs(x)</li>\n",
    "<li>np.exp(x), np.log(x), np.log2(x), np.log10(x)</li>\n",
    "<li>np.sin(x), np.cos(x), np.tan(x), np.arctan(x)</li>\n",
    "<li>...</li>\n",
    "<p><img src=\"./img/n6.png\" alt=\"\" width=\"300\" height=\"100\" /></p>\n",
    "</ul>\n",
    "</li>\n",
    "</ul>"
   ]
  },
  {
   "cell_type": "code",
   "execution_count": 5,
   "metadata": {},
   "outputs": [
    {
     "name": "stdout",
     "output_type": "stream",
     "text": [
      "x * y = \n",
      "[[ 3  8]\n",
      " [10 12]]\n",
      "\n",
      "exp(x) = \n",
      "[[2.71828183 7.3890561 ]\n",
      " [7.3890561  7.3890561 ]]\n"
     ]
    }
   ],
   "source": [
    "x = np.array([[1, 2], [2, 2]])\n",
    "y = np.array([[3, 4], [5, 6]])\n",
    "\n",
    "print(f\"x * y = \\n{x*y}\\n\")\n",
    "print(f\"exp(x) = \\n{np.exp(x)}\")"
   ]
  },
  {
   "cell_type": "markdown",
   "metadata": {},
   "source": [
    "<p><strong>Aggregate functions</strong></p>\n",
    "<ul>\n",
    "<li>Functions that returns a single value from an array\n",
    "<ul style=\"list-style-type: square;\">\n",
    "<li>np.min(x), np.max(x) <em>or x.min(), x.max()</em></li>\n",
    "<li>np.mean(x), np.std(x) <em>or x.mean(), x.std()</em></li>\n",
    "<li>np.sum(x)&nbsp;<em>or x.sum()</em></li>\n",
    "<li>np.argmin(x), np.argmax(x)&nbsp;<em>or x.argmin(), x.argmax()</em></li>\n",
    "</ul>\n",
    "</li>\n",
    "<li>Aggregation functions along axes\n",
    "<ul style=\"list-style-type: square;\">\n",
    "<li>Specify the operation and the axis</li>\n",
    "<li>The aggregation dimension is removed from the output</li>\n",
    "</ul>\n",
    "</li>\n",
    "</ul>"
   ]
  },
  {
   "cell_type": "code",
   "execution_count": 6,
   "metadata": {},
   "outputs": [
    {
     "name": "stdout",
     "output_type": "stream",
     "text": [
      "[1 0]\n",
      "[1 1]\n",
      "[ 3 11]\n",
      "[8 6]\n"
     ]
    }
   ],
   "source": [
    "x = np.array([[1, 7], [2, 4]])\n",
    "print(x.argmax(axis=0))\n",
    "print(x.argmax(axis=1))\n",
    "print(x.sum(axis=0))\n",
    "print(x.sum(axis=1))"
   ]
  },
  {
   "cell_type": "code",
   "execution_count": 7,
   "metadata": {},
   "outputs": [
    {
     "data": {
      "text/plain": [
       "array([[ 1,  4],\n",
       "       [ 7, 10],\n",
       "       [13, 16]])"
      ]
     },
     "execution_count": 7,
     "metadata": {},
     "output_type": "execute_result"
    }
   ],
   "source": [
    "y = np.array([[[1, 2, 3], [4, 5, 6]], \n",
    "              [[7, 8, 9], [10, 11, 12]],\n",
    "              [[13, 14, 15], [16, 17, 18]]])\n",
    "\n",
    "y.min(axis=-1)"
   ]
  },
  {
   "cell_type": "markdown",
   "metadata": {},
   "source": [
    "<p><img src=\"./img/n9.png\" alt=\"\" width=\"500\" height=\"100\" /></p>"
   ]
  },
  {
   "cell_type": "code",
   "execution_count": 8,
   "metadata": {},
   "outputs": [
    {
     "data": {
      "text/plain": [
       "array([[ 1,  2,  3],\n",
       "       [ 7,  8,  9],\n",
       "       [13, 14, 15]])"
      ]
     },
     "execution_count": 8,
     "metadata": {},
     "output_type": "execute_result"
    }
   ],
   "source": [
    "y.min(axis=1)"
   ]
  },
  {
   "cell_type": "markdown",
   "metadata": {},
   "source": [
    "<p><img src=\"./img/n10.png\" alt=\"\" width=\"500\" height=\"100\" /></p>"
   ]
  },
  {
   "cell_type": "markdown",
   "metadata": {},
   "source": [
    "<p><strong>Sorting</strong></p>\n",
    "<ul>\n",
    "<li>The sort() methods it is possible to specify the axis along which sorting the array (-1 by default)\n",
    "<ul style=\"list-style-type: square;\">\n",
    "<li>np.sort(x) - creates a sorted copy of x</li>\n",
    "<li>x.sort() - sorts x inplace</li>\n",
    "</ul>\n",
    "</li>\n",
    "<li>It is also possible to return the position of te indices of the sotred array (by default on axis -1)\n",
    "<ul style=\"list-style-type: square;\">\n",
    "<li>np.argsort(x)</li>\n",
    "</ul>\n",
    "</li>\n",
    "</ul>"
   ]
  },
  {
   "cell_type": "code",
   "execution_count": 9,
   "metadata": {},
   "outputs": [
    {
     "data": {
      "text/plain": [
       "array([[1, 2, 3],\n",
       "       [7, 8, 9]])"
      ]
     },
     "execution_count": 9,
     "metadata": {},
     "output_type": "execute_result"
    }
   ],
   "source": [
    "x = np.array([[2, 1, 3], [7, 8, 9]])\n",
    "np.sort(x)"
   ]
  },
  {
   "cell_type": "markdown",
   "metadata": {},
   "source": [
    "<p><img src=\"./img/n11.png\" alt=\"\" width=\"280\" height=\"100\" /></p>"
   ]
  },
  {
   "cell_type": "code",
   "execution_count": 10,
   "metadata": {},
   "outputs": [
    {
     "data": {
      "text/plain": [
       "array([[2, 2, 1],\n",
       "       [7, 7, 3]])"
      ]
     },
     "execution_count": 10,
     "metadata": {},
     "output_type": "execute_result"
    }
   ],
   "source": [
    "x = np.array([[2, 7, 3], [7, 2, 1]])\n",
    "np.sort(x, axis=0)"
   ]
  },
  {
   "cell_type": "markdown",
   "metadata": {},
   "source": [
    "<p><img src=\"./img/n12.png\" alt=\"\" width=\"348\" height=\"100\" /></p>"
   ]
  },
  {
   "cell_type": "code",
   "execution_count": 11,
   "metadata": {},
   "outputs": [
    {
     "data": {
      "text/plain": [
       "array([1, 3, 5, 7, 6, 4, 2, 0])"
      ]
     },
     "execution_count": 11,
     "metadata": {},
     "output_type": "execute_result"
    }
   ],
   "source": [
    "x = np.array([9,1,8,3,7,4,6,5])\n",
    "np.argsort(x)"
   ]
  },
  {
   "cell_type": "code",
   "execution_count": 12,
   "metadata": {},
   "outputs": [
    {
     "data": {
      "text/plain": [
       "array([[1, 0, 2],\n",
       "       [0, 1, 2]])"
      ]
     },
     "execution_count": 12,
     "metadata": {},
     "output_type": "execute_result"
    }
   ],
   "source": [
    "x = np.array([[2, 1, 3], [7, 8, 9]])\n",
    "np.argsort(x)"
   ]
  },
  {
   "cell_type": "markdown",
   "metadata": {},
   "source": [
    "<p><img src=\"./img/n13.png\" alt=\"\" width=\"490\" height=\"100\" /></p>"
   ]
  },
  {
   "cell_type": "markdown",
   "metadata": {},
   "source": [
    "<p><strong>Algebraic operations</strong></p>\n",
    "<p>The np.dot(x,y) returns the matrix product between the arrays passed as parameter. The resulting shape depends on the original shapes of the arguments that have to be coherent with th operation performed</p>"
   ]
  },
  {
   "cell_type": "code",
   "execution_count": 13,
   "metadata": {},
   "outputs": [
    {
     "data": {
      "text/plain": [
       "7"
      ]
     },
     "execution_count": 13,
     "metadata": {},
     "output_type": "execute_result"
    }
   ],
   "source": [
    "x = np.array([1, 2, 3])\n",
    "y = np.array([0, 2, 1])\n",
    "\n",
    "np.dot(x,y)"
   ]
  },
  {
   "cell_type": "markdown",
   "metadata": {},
   "source": [
    "<p><img src=\"./img/n14.png\" alt=\"\" width=\"225\" height=\"100\" /></p>"
   ]
  },
  {
   "cell_type": "code",
   "execution_count": 14,
   "metadata": {},
   "outputs": [
    {
     "data": {
      "text/plain": [
       "array([ 5, 10])"
      ]
     },
     "execution_count": 14,
     "metadata": {},
     "output_type": "execute_result"
    }
   ],
   "source": [
    "x = np.array([[1, 1], [2, 2]])\n",
    "y = np.array([2, 3])\n",
    "\n",
    "np.dot(x,y)"
   ]
  },
  {
   "cell_type": "markdown",
   "metadata": {},
   "source": [
    "<p><img src=\"./img/n15.png\" alt=\"\" width=\"250\" height=\"100\" /></p>"
   ]
  },
  {
   "cell_type": "code",
   "execution_count": 15,
   "metadata": {},
   "outputs": [
    {
     "data": {
      "text/plain": [
       "array([[3, 3],\n",
       "       [6, 6]])"
      ]
     },
     "execution_count": 15,
     "metadata": {},
     "output_type": "execute_result"
    }
   ],
   "source": [
    "x = np.array([[1, 1], [2, 2]])\n",
    "y = np.array([[2, 2], [1, 1]])\n",
    "\n",
    "np.dot(x,y)"
   ]
  },
  {
   "cell_type": "markdown",
   "metadata": {},
   "source": [
    "<p><img src=\"./img/n16.png\" alt=\"\" width=\"350\" height=\"100\" /></p>"
   ]
  },
  {
   "cell_type": "markdown",
   "metadata": {},
   "source": [
    "### Example\n",
    "\n",
    "**Sigmoid activation function: $y = sigmoid(x)$**\n",
    "\n",
    "$$sigmoid(x_i) = \\frac{1}{1+exp(-x_i)}$$"
   ]
  },
  {
   "cell_type": "markdown",
   "metadata": {},
   "source": [
    "<p><img src=\"./img/sig.png\" alt=\"\" width=\"50%\"/></p>"
   ]
  },
  {
   "cell_type": "code",
   "execution_count": 23,
   "metadata": {},
   "outputs": [
    {
     "data": {
      "text/plain": [
       "array([0.98201379, 0.26894142, 0.99908895, 0.99987661, 0.95257413,\n",
       "       0.00669285])"
      ]
     },
     "execution_count": 23,
     "metadata": {},
     "output_type": "execute_result"
    }
   ],
   "source": [
    "x = np.array([4, -1, 7, 9, 3, -5])\n",
    "\n",
    "y = 1/ (1 + np.exp(-x))\n",
    "y"
   ]
  },
  {
   "cell_type": "markdown",
   "metadata": {},
   "source": [
    "**Softmax activation function: $$y_i = \\frac{exp(x_i)}{\\sum_j{exp(x_j)}}$$**\n",
    "\n",
    "Activation function that normalizes the input vector to a discrete probability distribution (values of the result add to 1).\n",
    "\n"
   ]
  },
  {
   "cell_type": "code",
   "execution_count": 24,
   "metadata": {},
   "outputs": [
    {
     "data": {
      "text/plain": [
       "array([5.88673555e-03, 3.96645122e-05, 1.18238244e-01, 8.73669020e-01,\n",
       "       2.16560899e-03, 7.26480881e-07])"
      ]
     },
     "execution_count": 24,
     "metadata": {},
     "output_type": "execute_result"
    }
   ],
   "source": [
    "y_soft = np.exp(x) / np.exp(x).sum()\n",
    "y_soft"
   ]
  },
  {
   "cell_type": "markdown",
   "metadata": {},
   "source": [
    "## 3 - Broadcasting"
   ]
  },
  {
   "cell_type": "markdown",
   "metadata": {},
   "source": [
    "<p>The concept of broadcasting is extremely useful when there is the need to perform operations between arrays with <strong>different shapes</strong></p>"
   ]
  },
  {
   "cell_type": "markdown",
   "metadata": {},
   "source": [
    "<p><img src=\"./img/n17.png\" alt=\"\" width=\"500\" height=\"100\" /></p>"
   ]
  },
  {
   "cell_type": "markdown",
   "metadata": {},
   "source": [
    "<ol>\n",
    "<li>The shape of the array with&nbsp;<strong>fewer dimensions</strong> is&nbsp;<strong>padded&nbsp;</strong>with leading ones</li>\n",
    "<li>If the shape along a dimension is 1 for one of the arrays, and &gt;1 for the other, the smaller array is&nbsp;<strong>stretched to match to other array</strong></li>\n",
    "<li>If there is a dimension where both arrays have shape &gt;1 broadcasting&nbsp;<strong>cannot be performed</strong></li>\n",
    "</ol>"
   ]
  },
  {
   "cell_type": "code",
   "execution_count": 16,
   "metadata": {},
   "outputs": [
    {
     "data": {
      "text/plain": [
       "array([[12, 13, 14],\n",
       "       [13, 14, 15],\n",
       "       [14, 15, 16]])"
      ]
     },
     "execution_count": 16,
     "metadata": {},
     "output_type": "execute_result"
    }
   ],
   "source": [
    "x = np.array([1, 2, 3])\n",
    "y = np.array([[11], [12], [13]])\n",
    "x + y"
   ]
  },
  {
   "cell_type": "markdown",
   "metadata": {},
   "source": [
    "<p><img src=\"./img/n19.png\" alt=\"\" width=\"500\" height=\"100\" /></p>"
   ]
  },
  {
   "cell_type": "markdown",
   "metadata": {},
   "source": [
    "If the shapes are incompatible, broadcasting can't be executed and Numpy will <strong>raise a ValueError exception</strong>."
   ]
  },
  {
   "cell_type": "code",
   "execution_count": 17,
   "metadata": {},
   "outputs": [
    {
     "ename": "ValueError",
     "evalue": "operands could not be broadcast together with shapes (3,2) (3,) ",
     "output_type": "error",
     "traceback": [
      "\u001b[0;31m---------------------------------------------------------------------------\u001b[0m",
      "\u001b[0;31mValueError\u001b[0m                                Traceback (most recent call last)",
      "\u001b[0;32m<ipython-input-17-731d4d1c96f0>\u001b[0m in \u001b[0;36m<module>\u001b[0;34m\u001b[0m\n\u001b[1;32m      1\u001b[0m \u001b[0mx\u001b[0m \u001b[0;34m=\u001b[0m \u001b[0mnp\u001b[0m\u001b[0;34m.\u001b[0m\u001b[0marray\u001b[0m\u001b[0;34m(\u001b[0m\u001b[0;34m[\u001b[0m\u001b[0;34m[\u001b[0m\u001b[0;36m1\u001b[0m\u001b[0;34m,\u001b[0m \u001b[0;36m2\u001b[0m\u001b[0;34m]\u001b[0m\u001b[0;34m,\u001b[0m \u001b[0;34m[\u001b[0m\u001b[0;36m3\u001b[0m\u001b[0;34m,\u001b[0m \u001b[0;36m4\u001b[0m\u001b[0;34m]\u001b[0m\u001b[0;34m,\u001b[0m \u001b[0;34m[\u001b[0m\u001b[0;36m5\u001b[0m\u001b[0;34m,\u001b[0m \u001b[0;36m6\u001b[0m\u001b[0;34m]\u001b[0m\u001b[0;34m]\u001b[0m\u001b[0;34m)\u001b[0m\u001b[0;34m\u001b[0m\u001b[0;34m\u001b[0m\u001b[0m\n\u001b[1;32m      2\u001b[0m \u001b[0my\u001b[0m \u001b[0;34m=\u001b[0m \u001b[0mnp\u001b[0m\u001b[0;34m.\u001b[0m\u001b[0marray\u001b[0m\u001b[0;34m(\u001b[0m\u001b[0;34m[\u001b[0m\u001b[0;36m11\u001b[0m\u001b[0;34m,\u001b[0m \u001b[0;36m12\u001b[0m\u001b[0;34m,\u001b[0m \u001b[0;36m13\u001b[0m\u001b[0;34m]\u001b[0m\u001b[0;34m)\u001b[0m\u001b[0;34m\u001b[0m\u001b[0;34m\u001b[0m\u001b[0m\n\u001b[0;32m----> 3\u001b[0;31m \u001b[0mx\u001b[0m \u001b[0;34m+\u001b[0m \u001b[0my\u001b[0m\u001b[0;34m\u001b[0m\u001b[0;34m\u001b[0m\u001b[0m\n\u001b[0m",
      "\u001b[0;31mValueError\u001b[0m: operands could not be broadcast together with shapes (3,2) (3,) "
     ]
    }
   ],
   "source": [
    "x = np.array([[1, 2], [3, 4], [5, 6]])\n",
    "y = np.array([11, 12, 13])\n",
    "x + y"
   ]
  },
  {
   "cell_type": "markdown",
   "metadata": {},
   "source": [
    "### Example - Dataset normalization"
   ]
  },
  {
   "cell_type": "code",
   "execution_count": 26,
   "metadata": {},
   "outputs": [],
   "source": [
    "#input table\n",
    "n_samples = 100\n",
    "n_columns = 5\n",
    "mean = 1\n",
    "std = 3\n",
    "X = np.random.normal(mean, std, (n_samples, n_columns))"
   ]
  },
  {
   "cell_type": "markdown",
   "metadata": {},
   "source": [
    "Apply z-score normalizing each column bu subtracting its mean and dividing by its standard deviation"
   ]
  },
  {
   "cell_type": "code",
   "execution_count": 36,
   "metadata": {},
   "outputs": [
    {
     "data": {
      "text/plain": [
       "array([1.32082952, 0.92954785, 1.12435215, 0.75414228, 1.088014  ])"
      ]
     },
     "execution_count": 36,
     "metadata": {},
     "output_type": "execute_result"
    }
   ],
   "source": [
    "X.mean(axis=0)"
   ]
  },
  {
   "cell_type": "code",
   "execution_count": 38,
   "metadata": {},
   "outputs": [
    {
     "data": {
      "text/plain": [
       "array([3.11140629, 3.14343853, 3.13090558, 2.77163615, 3.21447385])"
      ]
     },
     "execution_count": 38,
     "metadata": {},
     "output_type": "execute_result"
    }
   ],
   "source": [
    "X.std(axis=0)"
   ]
  },
  {
   "cell_type": "code",
   "execution_count": 41,
   "metadata": {},
   "outputs": [],
   "source": [
    "X_norm = (X - X.mean(axis=0)) / X.std(axis=0)"
   ]
  },
  {
   "cell_type": "code",
   "execution_count": 33,
   "metadata": {},
   "outputs": [],
   "source": [
    "# WRONG method\n",
    "# X_norm = np.zeros(X.shape)\n",
    "# for col in range(X.shape[1]):\n",
    "#     X_norm[:,col] = (X[:,col]-X[:,col].mean())/X[:,col].std()\n",
    "# X_norm"
   ]
  },
  {
   "cell_type": "markdown",
   "metadata": {},
   "source": [
    "## 4 - Accessing arrays"
   ]
  },
  {
   "cell_type": "markdown",
   "metadata": {},
   "source": [
    "<ul>\n",
    "<li>Simple indexing</li>\n",
    "<li>Slicing</li>\n",
    "<li>Masking</li>\n",
    "<li>Fancy indexing</li>\n",
    "<li>Combined indexing</li>\n",
    "</ul>"
   ]
  },
  {
   "cell_type": "markdown",
   "metadata": {},
   "source": [
    "### Simple indexing"
   ]
  },
  {
   "cell_type": "code",
   "execution_count": 18,
   "metadata": {},
   "outputs": [
    {
     "data": {
      "text/plain": [
       "7"
      ]
     },
     "execution_count": 18,
     "metadata": {},
     "output_type": "execute_result"
    }
   ],
   "source": [
    "x = np.array([[2, 3, 4], [5, 6, 7]])\n",
    "x[1,2]"
   ]
  },
  {
   "cell_type": "code",
   "execution_count": 19,
   "metadata": {},
   "outputs": [
    {
     "data": {
      "text/plain": [
       "array([[2, 3, 4],\n",
       "       [5, 6, 1]])"
      ]
     },
     "execution_count": 19,
     "metadata": {},
     "output_type": "execute_result"
    }
   ],
   "source": [
    "x[1,2] = 1\n",
    "x"
   ]
  },
  {
   "cell_type": "code",
   "execution_count": 20,
   "metadata": {},
   "outputs": [
    {
     "data": {
      "text/plain": [
       "4"
      ]
     },
     "execution_count": 20,
     "metadata": {},
     "output_type": "execute_result"
    }
   ],
   "source": [
    "x[0,-1]"
   ]
  },
  {
   "cell_type": "markdown",
   "metadata": {},
   "source": [
    "### Slicing\n",
    "<p>Slicing returns a view of the original array, each read and write operation on a view is computed inplace in the original array.</p>\n",
    "<p>x[<span style=\"color: #339966;\"> start</span> : <span style=\"color: #ff6600;\">stop</span> : <span style=\"color: #33cccc;\">step</span> , ... ]</p>\n",
    "<ul>\n",
    "<li>Creates a view of the elements from&nbsp;<span style=\"color: #339966;\">start</span> (included) to &nbsp;<span style=\"color: #ff6600;\">stop</span> (excluded) with fixed <span style=\"color: #33cccc;\">step</span></li>\n",
    "<li><span style=\"color: #000000;\">Every update on the view yield <strong>inplace</strong> updates on the original array</span></li>\n",
    "<li>With the shortcuts&nbsp;<strong>omit start</strong>,<strong>&nbsp;</strong><strong>omit stop </strong>and<strong>&nbsp;</strong><strong>omit step&nbsp;</strong>it's possible to slice from the beginning of the array, until the end of the array or without skipping elements, respectively.</li>\n",
    "</ul>"
   ]
  },
  {
   "cell_type": "code",
   "execution_count": 21,
   "metadata": {},
   "outputs": [
    {
     "data": {
      "text/plain": [
       "array([[2, 3],\n",
       "       [5, 6],\n",
       "       [8, 9]])"
      ]
     },
     "execution_count": 21,
     "metadata": {},
     "output_type": "execute_result"
    }
   ],
   "source": [
    "x = np.array([[1,2,3],[4,5,6],[7,8,9]])\n",
    "\n",
    "x[:, 1:]    # or x[0:3, 1:3]  "
   ]
  },
  {
   "cell_type": "markdown",
   "metadata": {},
   "source": [
    "<p>select all rows and the last 2 columns</p>\n",
    "<p><img src=\"./img/n22.png\" alt=\"\" width=\"100\" height=\"100\" /></p>"
   ]
  },
  {
   "cell_type": "code",
   "execution_count": 22,
   "metadata": {},
   "outputs": [
    {
     "data": {
      "text/plain": [
       "array([[1, 3],\n",
       "       [4, 6]])"
      ]
     },
     "execution_count": 22,
     "metadata": {},
     "output_type": "execute_result"
    }
   ],
   "source": [
    "x[:2, ::2]    # or x[0:2, 0:3:2]    "
   ]
  },
  {
   "cell_type": "markdown",
   "metadata": {},
   "source": [
    "<p>select the first two rows and the first and third coumns</p>\n",
    "<p><img src=\"./img/n23.png\" alt=\"\" width=\"105\" height=\"100\" /></p>"
   ]
  },
  {
   "cell_type": "code",
   "execution_count": null,
   "metadata": {},
   "outputs": [],
   "source": [
    "view = x[:, 1:]\n",
    "view"
   ]
  },
  {
   "cell_type": "code",
   "execution_count": null,
   "metadata": {},
   "outputs": [],
   "source": [
    "view[:,:] = 0\n",
    "x    # chages the array inplace"
   ]
  },
  {
   "cell_type": "markdown",
   "metadata": {},
   "source": [
    "To avoid updating the original array the methond .copy() can be used"
   ]
  },
  {
   "cell_type": "code",
   "execution_count": null,
   "metadata": {},
   "outputs": [],
   "source": [
    "x = np.array([[1,2,3],[4,5,6],[7,8,9]])\n",
    "x_cp = x[:, 1:].copy() \n",
    "x_cp[:, :] = 0\n",
    "x"
   ]
  },
  {
   "cell_type": "markdown",
   "metadata": {},
   "source": [
    "### Masking\n",
    "<p>Selecting element in the original array making use of a mask (a boolean array) with the same shape of original array.</p>\n",
    "<p>Masking returns a&nbsp;<strong>one-dimensional vector</strong> that is a <strong>copy</strong> of the original array elements selected by the mask (no inplace changes)a&nbsp;Masks are usually created making use of a standard python comparison operator (&gt;, &gt;=, &lt;, &lt;=, ==, !=).</p>\n",
    "<p>Moreover, Numpy allows boolean operations between masks with the same shape</p>\n",
    "<ul>\n",
    "<li>&amp; (and)</li>\n",
    "<li>| &nbsp;(or)</li>\n",
    "<li>^ (xor)</li>\n",
    "<li>~ (negation)</li>\n",
    "</ul>\n"
   ]
  },
  {
   "cell_type": "code",
   "execution_count": null,
   "metadata": {},
   "outputs": [],
   "source": [
    "x = np.array([1.2, 4.1, 1.5, 4.5])\n",
    "x > 4    "
   ]
  },
  {
   "cell_type": "code",
   "execution_count": null,
   "metadata": {},
   "outputs": [],
   "source": [
    "x = np.array([[1.2, 4.1], [1.5, 4.5]])\n",
    "x <= 1.5"
   ]
  },
  {
   "cell_type": "code",
   "execution_count": null,
   "metadata": {},
   "outputs": [],
   "source": [
    "~(x <= 1.5)"
   ]
  },
  {
   "cell_type": "code",
   "execution_count": null,
   "metadata": {},
   "outputs": [],
   "source": [
    "x[x <= 1.5]"
   ]
  },
  {
   "cell_type": "code",
   "execution_count": null,
   "metadata": {},
   "outputs": [],
   "source": [
    "x[x > 4] = 0\n",
    "x"
   ]
  },
  {
   "cell_type": "markdown",
   "metadata": {},
   "source": [
    "Masking does not create views, but copies"
   ]
  },
  {
   "cell_type": "code",
   "execution_count": null,
   "metadata": {},
   "outputs": [],
   "source": [
    "x = np.array([1.2, 4.1, 1.5, 4.5])\n",
    "masked = x[x > 4]\n",
    "masked[:] = 0\n",
    "x"
   ]
  },
  {
   "cell_type": "markdown",
   "metadata": {},
   "source": [
    "### Fancy indexing\n",
    "Specify explicitly the index of the elements to be selected. Similarly to masking, fancy indexing provides copies (not views) of the original array."
   ]
  },
  {
   "cell_type": "code",
   "execution_count": null,
   "metadata": {},
   "outputs": [],
   "source": [
    "x = np.array([7, 9, 6, 5])\n",
    "x[[1,3]]"
   ]
  },
  {
   "cell_type": "code",
   "execution_count": null,
   "metadata": {},
   "outputs": [],
   "source": [
    "x = np.array([[0.0, 1.0, 2.0], [3.0, 4.0, 5.0], [6.0, 7.0, 8.0]])\n",
    "x[[1, 2]]"
   ]
  },
  {
   "cell_type": "markdown",
   "metadata": {},
   "source": [
    "<p><img src=\"./img/n24.png\" alt=\"\" width=\"200\" height=\"100\" /></p>"
   ]
  },
  {
   "cell_type": "code",
   "execution_count": 40,
   "metadata": {},
   "outputs": [
    {
     "data": {
      "text/plain": [
       "array([3, 8])"
      ]
     },
     "execution_count": 40,
     "metadata": {},
     "output_type": "execute_result"
    }
   ],
   "source": [
    "x[[1, 2], [0, 2]] # select indices (1,0) (2,2)"
   ]
  },
  {
   "cell_type": "markdown",
   "metadata": {},
   "source": [
    "<p><img src=\"./img/n25.png\" alt=\"\" width=\"120\" height=\"100\" /></p>"
   ]
  },
  {
   "cell_type": "code",
   "execution_count": 34,
   "metadata": {},
   "outputs": [
    {
     "data": {
      "text/plain": [
       "array([1.2, 0. , 1.5, 0. ])"
      ]
     },
     "execution_count": 34,
     "metadata": {},
     "output_type": "execute_result"
    }
   ],
   "source": [
    "x = np.array([1.2, 4.1, 1.5, 4.5])\n",
    "x[[1, 3]] = 0    # assignment is allowed\n",
    "x"
   ]
  },
  {
   "cell_type": "code",
   "execution_count": 35,
   "metadata": {},
   "outputs": [
    {
     "data": {
      "text/plain": [
       "array([1.2, 4.1, 1.5, 4.5])"
      ]
     },
     "execution_count": 35,
     "metadata": {},
     "output_type": "execute_result"
    }
   ],
   "source": [
    "x = np.array([1.2, 4.1, 1.5, 4.5])\n",
    "selection = x[[1,3]]\n",
    "selection[:] = 0    # assignment does not effect x\n",
    "x"
   ]
  },
  {
   "cell_type": "markdown",
   "metadata": {},
   "source": [
    "### Combined indexing\n",
    "\n",
    "<p>Numpy allows mixing the different accessing methods introduced so far.</p>"
   ]
  },
  {
   "cell_type": "code",
   "execution_count": 36,
   "metadata": {},
   "outputs": [
    {
     "data": {
      "text/plain": [
       "array([[0, 1, 2],\n",
       "       [3, 4, 5],\n",
       "       [6, 7, 8]])"
      ]
     },
     "execution_count": 36,
     "metadata": {},
     "output_type": "execute_result"
    }
   ],
   "source": [
    "x = np.array([[0, 1, 2], [3, 4, 5], [6, 7, 8]])\n",
    "x"
   ]
  },
  {
   "cell_type": "code",
   "execution_count": 37,
   "metadata": {},
   "outputs": [
    {
     "data": {
      "text/plain": [
       "array([[1, 2],\n",
       "       [7, 8]])"
      ]
     },
     "execution_count": 37,
     "metadata": {},
     "output_type": "execute_result"
    }
   ],
   "source": [
    "x[[True, False, True], 1:] # mask + slicing"
   ]
  },
  {
   "cell_type": "markdown",
   "metadata": {},
   "source": [
    "<p><img src=\"./img/n26.png\" alt=\"\" width=\"120\" height=\"100\" /></p>"
   ]
  },
  {
   "cell_type": "code",
   "execution_count": 26,
   "metadata": {},
   "outputs": [
    {
     "data": {
      "text/plain": [
       "array([[0, 1],\n",
       "       [6, 7]])"
      ]
     },
     "execution_count": 26,
     "metadata": {},
     "output_type": "execute_result"
    }
   ],
   "source": [
    "x[[0,2], :2] # fancy + slicing"
   ]
  },
  {
   "cell_type": "markdown",
   "metadata": {},
   "source": [
    "<p><img src=\"./img/n27.png\" alt=\"\" width=\"120\" height=\"100\" /></p>"
   ]
  },
  {
   "cell_type": "code",
   "execution_count": 39,
   "metadata": {},
   "outputs": [
    {
     "data": {
      "text/plain": [
       "array([1, 2])"
      ]
     },
     "execution_count": 39,
     "metadata": {},
     "output_type": "execute_result"
    }
   ],
   "source": [
    "x[0, 1:] # simple + slicing"
   ]
  },
  {
   "cell_type": "markdown",
   "metadata": {},
   "source": [
    "<p><img src=\"./img/n28.png\" alt=\"\" width=\"120\" height=\"100\" /></p>"
   ]
  },
  {
   "cell_type": "code",
   "execution_count": 38,
   "metadata": {},
   "outputs": [
    {
     "data": {
      "text/plain": [
       "array([0, 6])"
      ]
     },
     "execution_count": 38,
     "metadata": {},
     "output_type": "execute_result"
    }
   ],
   "source": [
    "x[[True, False, True], 0] # mask + simple"
   ]
  },
  {
   "cell_type": "markdown",
   "metadata": {},
   "source": [
    "<p><img src=\"./img/n29.png\" alt=\"\" width=\"120\" height=\"100\" /></p>"
   ]
  },
  {
   "cell_type": "markdown",
   "metadata": {},
   "source": [
    "### Example"
   ]
  },
  {
   "cell_type": "code",
   "execution_count": 43,
   "metadata": {},
   "outputs": [],
   "source": [
    "# Input table (12 samples with 4 attributes)\n",
    "X = np.array([[5.1, 3.5, 1.4, 0.2],\n",
    "              [4.3, 3. , 1.1, 0.1],\n",
    "              [5. , 3.4, 1.6, 0.4],\n",
    "              [5.1, 3.4, 1.5, 0.2],\n",
    "              [6.9, 3.1, 4.9, 1.5],\n",
    "              [6.7, 3.1, 4.4, 1.4],\n",
    "              [6. , 2.9, 4.5, 1.5],\n",
    "              [6.1, 3. , 4.6, 1.4],\n",
    "              [6.5, 3. , 5.8, 2.2],\n",
    "              [7.7, 3.8, 6.7, 2.2],\n",
    "              [7.4, 2.8, 6.1, 1.9],\n",
    "              [6.8, 3.2, 5.9, 2.3]])\n",
    "\n",
    "attributes = ['height', 'width', 'intensity', 'weight']\n",
    "\n",
    "lables = np.array([0, 0, 0, 0, 1, 1, 1, 1, 2, 2, 2, 2])"
   ]
  },
  {
   "cell_type": "code",
   "execution_count": null,
   "metadata": {},
   "outputs": [],
   "source": []
  },
  {
   "cell_type": "markdown",
   "metadata": {},
   "source": [
    "## Array transformation"
   ]
  },
  {
   "cell_type": "markdown",
   "metadata": {},
   "source": [
    "### Concatenation\n",
    "\n",
    "<p>The concatenate( ) method returns the concatenation of existing arrays along one axis, spceified as parameter (default is 0).&nbsp;All the input array dimensions for the concatenation axis must match exactly.</p>"
   ]
  },
  {
   "cell_type": "code",
   "execution_count": 57,
   "metadata": {},
   "outputs": [
    {
     "data": {
      "text/plain": [
       "array([[ 1,  2,  3],\n",
       "       [ 4,  5,  6],\n",
       "       [11, 12, 13],\n",
       "       [14, 15, 16]])"
      ]
     },
     "execution_count": 57,
     "metadata": {},
     "output_type": "execute_result"
    }
   ],
   "source": [
    "x = np.array([[1, 2, 3], [4, 5, 6]])\n",
    "y = np.array([[11,12, 13], [14, 15, 16]])\n",
    "\n",
    "np.concatenate((x, y))"
   ]
  },
  {
   "cell_type": "markdown",
   "metadata": {},
   "source": [
    "<p><img src=\"./img/n30.png\" alt=\"\" width=\"200\" height=\"100\" /></p>"
   ]
  },
  {
   "cell_type": "code",
   "execution_count": 54,
   "metadata": {},
   "outputs": [
    {
     "data": {
      "text/plain": [
       "array([[ 1,  2,  3, 11, 12, 13],\n",
       "       [ 4,  5,  6, 14, 15, 16]])"
      ]
     },
     "execution_count": 54,
     "metadata": {},
     "output_type": "execute_result"
    }
   ],
   "source": [
    "np.concatenate((x,y), axis = 1)"
   ]
  },
  {
   "cell_type": "markdown",
   "metadata": {},
   "source": [
    "<p><img src=\"./img/n31.png\" alt=\"\" width=\"200\" height=\"100\" /></p>"
   ]
  },
  {
   "cell_type": "markdown",
   "metadata": {},
   "source": [
    "<p>The hstack( ) and vstack( ) methods works in a similar way. These functions make most sense for arrays with up to 3 dimensions. For instance, for pixel-data with a height (first axis), width (second axis), and r/g/b channels (third axis).</p>"
   ]
  },
  {
   "cell_type": "code",
   "execution_count": 58,
   "metadata": {},
   "outputs": [
    {
     "data": {
      "text/plain": [
       "array([[ 1,  2,  3, 11, 12, 13],\n",
       "       [ 4,  5,  6, 14, 15, 16]])"
      ]
     },
     "execution_count": 58,
     "metadata": {},
     "output_type": "execute_result"
    }
   ],
   "source": [
    "np.hstack((x,y))"
   ]
  },
  {
   "cell_type": "code",
   "execution_count": 59,
   "metadata": {},
   "outputs": [
    {
     "data": {
      "text/plain": [
       "array([[ 1,  2,  3],\n",
       "       [ 4,  5,  6],\n",
       "       [11, 12, 13],\n",
       "       [14, 15, 16]])"
      ]
     },
     "execution_count": 59,
     "metadata": {},
     "output_type": "execute_result"
    }
   ],
   "source": [
    "np.vstack((x,y))"
   ]
  },
  {
   "cell_type": "markdown",
   "metadata": {},
   "source": [
    "<p><img src=\"./img/n32.png\" alt=\"\" width=\"370\" height=\"100\" /></p>"
   ]
  },
  {
   "cell_type": "markdown",
   "metadata": {},
   "source": [
    "<p>Moreover, vstack allows also concatenating 1D vectors along a new axis (not allowed with the concatenate method)</p>"
   ]
  },
  {
   "cell_type": "code",
   "execution_count": 56,
   "metadata": {},
   "outputs": [
    {
     "data": {
      "text/plain": [
       "array([[ 1,  2,  3],\n",
       "       [11, 12, 13]])"
      ]
     },
     "execution_count": 56,
     "metadata": {},
     "output_type": "execute_result"
    }
   ],
   "source": [
    "x = np.array([1, 2, 3])\n",
    "y = np.array([11,12, 13])\n",
    "np.vstack((x,y))\n"
   ]
  },
  {
   "cell_type": "markdown",
   "metadata": {},
   "source": [
    "<p><img src=\"./img/n33.png\" alt=\"\" width=\"200\" height=\"100\" /></p>"
   ]
  },
  {
   "cell_type": "markdown",
   "metadata": {},
   "source": [
    "### Splitting\n",
    "<p>The split( ) takes as parameter an <strong>array</strong> and the <strong>indices</strong>&nbsp;alog which splitting the array, and&nbsp;returns a list of numpy arrays. The methods hsplit( ) and vsplit( ) work in a similar way, but they are used to split a matrix into a set of equal sized arrays.</p>"
   ]
  },
  {
   "cell_type": "code",
   "execution_count": 112,
   "metadata": {},
   "outputs": [
    {
     "data": {
      "text/plain": [
       "[array([7, 7]), array([9, 9]), array([8, 8])]"
      ]
     },
     "execution_count": 112,
     "metadata": {},
     "output_type": "execute_result"
    }
   ],
   "source": [
    "x = np.array([7, 7, 9, 9, 8, 8])\n",
    "np.split(x, [2,4])    # split before element 2 and 4"
   ]
  },
  {
   "cell_type": "markdown",
   "metadata": {},
   "source": [
    "<p><img src=\"./img/n34.png\" alt=\"\" width=\"300\" height=\"100\" /></p>"
   ]
  },
  {
   "cell_type": "code",
   "execution_count": 113,
   "metadata": {},
   "outputs": [
    {
     "data": {
      "text/plain": [
       "array([[ 1,  2,  3,  4,  5,  6],\n",
       "       [11, 12, 13, 14, 15, 16],\n",
       "       [21, 22, 23, 24, 25, 26],\n",
       "       [31, 32, 33, 34, 35, 36]])"
      ]
     },
     "execution_count": 113,
     "metadata": {},
     "output_type": "execute_result"
    }
   ],
   "source": [
    "x = np.array([[1, 2, 3, 4, 5, 6], [11, 12, 13, 14, 15, 16], \n",
    "              [21, 22, 23, 24, 25, 26], [31, 32, 33, 34, 35, 36]])\n",
    "x"
   ]
  },
  {
   "cell_type": "code",
   "execution_count": 114,
   "metadata": {},
   "outputs": [
    {
     "data": {
      "text/plain": [
       "[array([[ 1,  2,  3],\n",
       "        [11, 12, 13],\n",
       "        [21, 22, 23],\n",
       "        [31, 32, 33]]),\n",
       " array([[ 4,  5,  6],\n",
       "        [14, 15, 16],\n",
       "        [24, 25, 26],\n",
       "        [34, 35, 36]])]"
      ]
     },
     "execution_count": 114,
     "metadata": {},
     "output_type": "execute_result"
    }
   ],
   "source": [
    "np.hsplit(x, 2)"
   ]
  },
  {
   "cell_type": "code",
   "execution_count": 118,
   "metadata": {},
   "outputs": [
    {
     "data": {
      "text/plain": [
       "[array([[ 1,  2],\n",
       "        [11, 12],\n",
       "        [21, 22],\n",
       "        [31, 32]]),\n",
       " array([[ 3,  4],\n",
       "        [13, 14],\n",
       "        [23, 24],\n",
       "        [33, 34]]),\n",
       " array([[ 5,  6],\n",
       "        [15, 16],\n",
       "        [25, 26],\n",
       "        [35, 36]])]"
      ]
     },
     "execution_count": 118,
     "metadata": {},
     "output_type": "execute_result"
    }
   ],
   "source": [
    "np.hsplit(x, 3)"
   ]
  },
  {
   "cell_type": "code",
   "execution_count": 119,
   "metadata": {},
   "outputs": [
    {
     "data": {
      "text/plain": [
       "[array([[ 1,  2,  3,  4,  5,  6],\n",
       "        [11, 12, 13, 14, 15, 16]]),\n",
       " array([[21, 22, 23, 24, 25, 26],\n",
       "        [31, 32, 33, 34, 35, 36]])]"
      ]
     },
     "execution_count": 119,
     "metadata": {},
     "output_type": "execute_result"
    }
   ],
   "source": [
    "np.vsplit(x,2)"
   ]
  },
  {
   "cell_type": "markdown",
   "metadata": {},
   "source": [
    "### Reshaping\n",
    "<p>The reshape( ) method is used to change the shape of an array. The size of the array on which the method is called must match the size of the target shape.</p>"
   ]
  },
  {
   "cell_type": "code",
   "execution_count": 128,
   "metadata": {},
   "outputs": [
    {
     "data": {
      "text/plain": [
       "array([0, 1, 2, 3, 4, 5])"
      ]
     },
     "execution_count": 128,
     "metadata": {},
     "output_type": "execute_result"
    }
   ],
   "source": [
    "x = np.arange(6)\n",
    "x"
   ]
  },
  {
   "cell_type": "code",
   "execution_count": 129,
   "metadata": {},
   "outputs": [
    {
     "data": {
      "text/plain": [
       "array([[0, 1, 2],\n",
       "       [3, 4, 5]])"
      ]
     },
     "execution_count": 129,
     "metadata": {},
     "output_type": "execute_result"
    }
   ],
   "source": [
    "x.reshape((2,3))"
   ]
  },
  {
   "cell_type": "markdown",
   "metadata": {},
   "source": [
    "<p><img src=\"./img/n36.png\" alt=\"\" width=\"400\" height=\"100\" /></p>"
   ]
  },
  {
   "cell_type": "markdown",
   "metadata": {},
   "source": [
    "### Adding new dimensions"
   ]
  },
  {
   "cell_type": "code",
   "execution_count": 130,
   "metadata": {},
   "outputs": [
    {
     "data": {
      "text/plain": [
       "array([[1, 2, 3],\n",
       "       [4, 5, 6]])"
      ]
     },
     "execution_count": 130,
     "metadata": {},
     "output_type": "execute_result"
    }
   ],
   "source": [
    "x = np.array([[1, 2, 3], [4, 5, 6]])\n",
    "x"
   ]
  },
  {
   "cell_type": "code",
   "execution_count": 132,
   "metadata": {},
   "outputs": [
    {
     "data": {
      "text/plain": [
       "array([[[1, 2, 3],\n",
       "        [4, 5, 6]]])"
      ]
     },
     "execution_count": 132,
     "metadata": {},
     "output_type": "execute_result"
    }
   ],
   "source": [
    "x[np.newaxis, :, :]"
   ]
  },
  {
   "cell_type": "markdown",
   "metadata": {},
   "source": [
    "<p><img src=\"./img/n37.png\" alt=\"\" width=\"400\" height=\"100\" /></p>"
   ]
  },
  {
   "cell_type": "code",
   "execution_count": 133,
   "metadata": {},
   "outputs": [
    {
     "data": {
      "text/plain": [
       "array([[[1, 2, 3]],\n",
       "\n",
       "       [[4, 5, 6]]])"
      ]
     },
     "execution_count": 133,
     "metadata": {},
     "output_type": "execute_result"
    }
   ],
   "source": [
    "x[:, np.newaxis, :]"
   ]
  },
  {
   "cell_type": "code",
   "execution_count": 134,
   "metadata": {},
   "outputs": [
    {
     "data": {
      "text/plain": [
       "array([[[1],\n",
       "        [2],\n",
       "        [3]],\n",
       "\n",
       "       [[4],\n",
       "        [5],\n",
       "        [6]]])"
      ]
     },
     "execution_count": 134,
     "metadata": {},
     "output_type": "execute_result"
    }
   ],
   "source": [
    "x[:, :, np.newaxis]"
   ]
  },
  {
   "cell_type": "code",
   "execution_count": null,
   "metadata": {},
   "outputs": [],
   "source": []
  }
 ],
 "metadata": {
  "kernelspec": {
   "display_name": "Python 3",
   "language": "python",
   "name": "python3"
  },
  "language_info": {
   "codemirror_mode": {
    "name": "ipython",
    "version": 3
   },
   "file_extension": ".py",
   "mimetype": "text/x-python",
   "name": "python",
   "nbconvert_exporter": "python",
   "pygments_lexer": "ipython3",
   "version": "3.8.5"
  }
 },
 "nbformat": 4,
 "nbformat_minor": 4
}
