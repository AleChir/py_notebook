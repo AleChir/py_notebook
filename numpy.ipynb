{
 "cells": [
  {
   "cell_type": "markdown",
   "metadata": {},
   "source": [
    "# Numpy"
   ]
  },
  {
   "cell_type": "markdown",
   "metadata": {},
   "source": [
    "## Arrays"
   ]
  },
  {
   "cell_type": "markdown",
   "metadata": {},
   "source": [
    "<p>Numpy arrays are fixed-type contiguous collections with high flexibility and efficiency in indexing methods and operations. There are several data types that can be used for arrays, the most common are:</p>\n",
    "<ul>\n",
    "<li><em>int8, int16, int32, int64</em></li>\n",
    "<li><em>uint8, uint16, uint32, uint64</em></li>\n",
    "<li><em>float16, float16, float64</em></li>\n",
    "<li><em>complex64, complex128</em></li>\n",
    "<li><em>bool</em></li>\n",
    "</ul>\n",
    "<p><strong>Multidimensiona arrays</strong></p>\n",
    "<p>Each array is characterized by a set of&nbsp;<strong>axes&nbsp;</strong>and a&nbsp;<strong>shape</strong>. The axes of an array define its dimensions:</p>\n",
    "<ul>\n",
    "<li>a row vectos has 1 axis</li>\n",
    "<li>a 2D matrix has 2 axes</li>\n",
    "<li>a ND array has N axes</li>\n",
    "</ul>\n",
    "<p><img src=\"./img/n2.png\" alt=\"\" width=\"348\" height=\"100\" /></p>\n",
    "<p>Axes can be numbered with negative values, the axis with index -1 is always along the <strong>row</strong>, while the last dimension added always take the lowest value (with sign) both with positive and negative indexing.</p>\n",
    "<p>The <strong>shape</strong> of an array is a tuple that specifies the number of elements along each axis. a column vector is a 2D matrix.</p>\n",
    "<p><img src=\"./img/n3.png\" alt=\"\" width=\"348\" height=\"100\" /></p>\n",
    "<p><img src=\"./img/n4.png\" alt=\"\" width=\"348\" height=\"100\" /></p>"
   ]
  },
  {
   "cell_type": "code",
   "execution_count": 2,
   "metadata": {},
   "outputs": [
    {
     "data": {
      "text/plain": [
       "array([[1, 2, 3],\n",
       "       [4, 5, 6],\n",
       "       [7, 8, 9]], dtype=uint8)"
      ]
     },
     "execution_count": 2,
     "metadata": {},
     "output_type": "execute_result"
    }
   ],
   "source": [
    "import numpy as np\n",
    "\n",
    "matrix = [[1, 2, 3], \n",
    "          [4, 5, 6], \n",
    "          [7, 8, 9]]\n",
    "\n",
    "np.array(matrix, dtype=np.uint8)"
   ]
  },
  {
   "cell_type": "code",
   "execution_count": 15,
   "metadata": {},
   "outputs": [
    {
     "name": "stdout",
     "output_type": "stream",
     "text": [
      "[[0 0 0]\n",
      " [0 0 0]]\n",
      "\n",
      "[[1 1 1]\n",
      " [1 1 1]]\n",
      "\n",
      "[[10 10 10]\n",
      " [10 10 10]\n",
      " [10 10 10]]\n",
      "\n"
     ]
    }
   ],
   "source": [
    "null_matrix = np.zeros((2, 3), dtype=np.int8)\n",
    "id_matrix = np.ones((2, 3), dtype=np.int8)\n",
    "full_matrix = np.full((3, 3), 10, dtype=np.int8)\n",
    "\n",
    "print(null_matrix, end='\\n\\n')\n",
    "print(id_matrix, end='\\n\\n')\n",
    "print(full_matrix, end='\\n\\n')"
   ]
  },
  {
   "cell_type": "code",
   "execution_count": 22,
   "metadata": {},
   "outputs": [
    {
     "name": "stdout",
     "output_type": "stream",
     "text": [
      "[0.         0.11111111 0.22222222 0.33333333 0.44444444 0.55555556\n",
      " 0.66666667 0.77777778 0.88888889 1.        ]\n",
      "\n",
      "[10 12 14 16 18 20]\n",
      "\n",
      "[[6.85297424 3.45181087 4.60646984]\n",
      " [2.79465194 6.17277103 4.63421926]]\n",
      "\n",
      "[[0.30015284 0.24675824 0.65499347 0.65107258]\n",
      " [0.91260191 0.19759293 0.35468297 0.46651739]\n",
      " [0.36234707 0.69808161 0.75283637 0.19247025]]\n",
      "\n"
     ]
    }
   ],
   "source": [
    "#10 sample in range 0-1\n",
    "linear = np.linspace(0, 1, 10)\n",
    "\n",
    "#Sequence 10-20 with step 2\n",
    "step_2 = np.arange(10, 21, 2)\n",
    "\n",
    "#Random (2,3) matrix with normal distribution µ=5 std=2\n",
    "gauss_matrix = np.random.normal(5, 2, (2,3)) \n",
    "\n",
    "#Random (3,4) matrix with uniform distribution on [0,1]\n",
    "uniform_matrix = np.random.random((3, 4))\n",
    "\n",
    "print(linear, end='\\n\\n')\n",
    "print(step_2, end='\\n\\n')\n",
    "print(gauss_matrix, end='\\n\\n')\n",
    "print(uniform_matrix, end='\\n\\n')"
   ]
  },
  {
   "cell_type": "code",
   "execution_count": 26,
   "metadata": {},
   "outputs": [
    {
     "name": "stdout",
     "output_type": "stream",
     "text": [
      "2 (2, 3) 6\n"
     ]
    }
   ],
   "source": [
    "x = np.array([[2, 3, 4], [8, 6, 7]])\n",
    "dimensions = x.ndim \n",
    "matrix_shape = x.shape\n",
    "matrix_size = x.size\n",
    "\n",
    "print(dimensions, matrix_shape, matrix_size)"
   ]
  },
  {
   "cell_type": "markdown",
   "metadata": {},
   "source": [
    "## Computation on Numpy"
   ]
  },
  {
   "cell_type": "markdown",
   "metadata": {},
   "source": [
    "<p><strong>Universal Functions (element-wise)</strong></p>\n",
    "<ul>\n",
    "<li><strong>Binary</strong> operations with arrays of the <strong>same shape</strong><br />\n",
    "<ul>\n",
    "<li>sum &amp; subtraction (+ -)</li>\n",
    "<li>multiplication &amp; division (* /)</li>\n",
    "<li>modulus (%)</li>\n",
    "<li>floor division (//)</li>\n",
    "<li>exponentiation (**)</li>\n",
    "<p><img src=\"./img/n5.png\" alt=\"\" width=\"450\" height=\"100\" /></p>\n",
    "</ul>\n",
    "</li>\n",
    "<li><strong>Unary&nbsp;</strong>operations (apply the operation separately to each element of the array)\n",
    "<ul>\n",
    "<li>np.abs(x)</li>\n",
    "<li>np.exp(x), np.log(x), np.log2(x), np.log10(x)</li>\n",
    "<li>np.sin(x), np.cos(x), np.tan(x), np.arctan(x)</li>\n",
    "<li>...</li>\n",
    "<p><img src=\"./img/n6.png\" alt=\"\" width=\"300\" height=\"100\" /></p>\n",
    "</ul>\n",
    "</li>\n",
    "</ul>"
   ]
  },
  {
   "cell_type": "code",
   "execution_count": 48,
   "metadata": {},
   "outputs": [
    {
     "name": "stdout",
     "output_type": "stream",
     "text": [
      "x * y = \n",
      "[[ 3  8]\n",
      " [10 12]]\n",
      "\n",
      "exp(x) = \n",
      "[[2.71828183 7.3890561 ]\n",
      " [7.3890561  7.3890561 ]]\n"
     ]
    }
   ],
   "source": [
    "x = np.array([[1, 2], [2, 2]])\n",
    "y = np.array([[3, 4], [5, 6]])\n",
    "\n",
    "print(f\"x * y = \\n{x*y}\\n\")\n",
    "print(f\"exp(x) = \\n{np.exp(x)}\")"
   ]
  },
  {
   "cell_type": "markdown",
   "metadata": {},
   "source": [
    "<p><strong>Aggregate functions</strong></p>\n",
    "<ul>\n",
    "<li>Functions that returns a single value from an array\n",
    "<ul style=\"list-style-type: square;\">\n",
    "<li>np.min(x), np.max(x) <em>or x.min(), x.max()</em></li>\n",
    "<li>np.mean(x), np.std(x) <em>or x.mean(), x.std()</em></li>\n",
    "<li>np.sum(x)&nbsp;<em>or x.sum()</em></li>\n",
    "<li>np.argmin(x), np.argmax(x)&nbsp;<em>or x.argmin(), x.argmax()</em></li>\n",
    "</ul>\n",
    "</li>\n",
    "<li>Aggregation functions along axes\n",
    "<ul style=\"list-style-type: square;\">\n",
    "<li>Specify the operation and the axis</li>\n",
    "<li>The aggregation dimension is removed from the output</li>\n",
    "</ul>\n",
    "</li>\n",
    "</ul>"
   ]
  },
  {
   "cell_type": "code",
   "execution_count": 52,
   "metadata": {},
   "outputs": [
    {
     "name": "stdout",
     "output_type": "stream",
     "text": [
      "[1 0]\n",
      "[1 1]\n",
      "[ 3 11]\n",
      "[8 6]\n"
     ]
    }
   ],
   "source": [
    "x = np.array([[1, 7], [2, 4]])\n",
    "print(x.argmax(axis=0))\n",
    "print(x.argmax(axis=1))\n",
    "print(x.sum(axis=0))\n",
    "print(x.sum(axis=1))"
   ]
  },
  {
   "cell_type": "code",
   "execution_count": 62,
   "metadata": {},
   "outputs": [
    {
     "data": {
      "text/plain": [
       "array([[ 1,  4],\n",
       "       [ 7, 10],\n",
       "       [13, 16]])"
      ]
     },
     "execution_count": 62,
     "metadata": {},
     "output_type": "execute_result"
    }
   ],
   "source": [
    "y = np.array([[[1, 2, 3], [4, 5, 6]], \n",
    "              [[7, 8, 9], [10, 11, 12]],\n",
    "              [[13, 14, 15], [16, 17, 18]]])\n",
    "\n",
    "y.min(axis=-1)"
   ]
  },
  {
   "cell_type": "markdown",
   "metadata": {},
   "source": [
    "<p><img src=\"./img/n9.png\" alt=\"\" width=\"348\" height=\"100\" /></p>"
   ]
  },
  {
   "cell_type": "code",
   "execution_count": 64,
   "metadata": {},
   "outputs": [
    {
     "data": {
      "text/plain": [
       "array([[ 1,  2,  3],\n",
       "       [ 7,  8,  9],\n",
       "       [13, 14, 15]])"
      ]
     },
     "execution_count": 64,
     "metadata": {},
     "output_type": "execute_result"
    }
   ],
   "source": [
    "y.min(axis=1)"
   ]
  },
  {
   "cell_type": "markdown",
   "metadata": {},
   "source": [
    "<p><img src=\"./img/n10.png\" alt=\"\" width=\"348\" height=\"100\" /></p>"
   ]
  },
  {
   "cell_type": "markdown",
   "metadata": {},
   "source": [
    "<p><strong>Sorting</strong></p>\n",
    "<ul>\n",
    "<li>The sort() methods it is possible to specify the axis along which sorting the array (-1 by default)\n",
    "<ul style=\"list-style-type: square;\">\n",
    "<li>np.sort(x) - creates a sorted copy of x</li>\n",
    "<li>x.sort() - sorts x inplace</li>\n",
    "</ul>\n",
    "</li>\n",
    "<li>It is also possible to return the position of te indices of the sotred array (by default on axis -1)\n",
    "<ul style=\"list-style-type: square;\">\n",
    "<li>np.argsort(x)</li>\n",
    "</ul>\n",
    "</li>\n",
    "</ul>"
   ]
  },
  {
   "cell_type": "code",
   "execution_count": 4,
   "metadata": {},
   "outputs": [
    {
     "data": {
      "text/plain": [
       "array([[1, 2, 3],\n",
       "       [7, 8, 9]])"
      ]
     },
     "execution_count": 4,
     "metadata": {},
     "output_type": "execute_result"
    }
   ],
   "source": [
    "x = np.array([[2, 1, 3], [7, 8, 9]])\n",
    "np.sort(x)"
   ]
  },
  {
   "cell_type": "markdown",
   "metadata": {},
   "source": [
    "<p><img src=\"./img/n11.png\" alt=\"\" width=\"348\" height=\"100\" /></p>"
   ]
  },
  {
   "cell_type": "code",
   "execution_count": 8,
   "metadata": {},
   "outputs": [
    {
     "data": {
      "text/plain": [
       "array([[2, 2, 1],\n",
       "       [7, 7, 3]])"
      ]
     },
     "execution_count": 8,
     "metadata": {},
     "output_type": "execute_result"
    }
   ],
   "source": [
    "x = np.array([[2, 7, 3], [7, 2, 1]])\n",
    "np.sort(x, axis=0)"
   ]
  },
  {
   "cell_type": "markdown",
   "metadata": {},
   "source": [
    "<p><img src=\"./img/n12.png\" alt=\"\" width=\"348\" height=\"100\" /></p>"
   ]
  },
  {
   "cell_type": "code",
   "execution_count": 9,
   "metadata": {},
   "outputs": [
    {
     "data": {
      "text/plain": [
       "array([1, 3, 5, 7, 6, 4, 2, 0])"
      ]
     },
     "execution_count": 9,
     "metadata": {},
     "output_type": "execute_result"
    }
   ],
   "source": [
    "x = np.array([9,1,8,3,7,4,6,5])\n",
    "np.argsort(x)"
   ]
  },
  {
   "cell_type": "code",
   "execution_count": 10,
   "metadata": {},
   "outputs": [
    {
     "data": {
      "text/plain": [
       "array([[1, 0, 2],\n",
       "       [0, 1, 2]])"
      ]
     },
     "execution_count": 10,
     "metadata": {},
     "output_type": "execute_result"
    }
   ],
   "source": [
    "x = np.array([[2, 1, 3], [7, 8, 9]])\n",
    "np.argsort(x)"
   ]
  },
  {
   "cell_type": "markdown",
   "metadata": {},
   "source": [
    "<p><img src=\"./img/n13.png\" alt=\"\" width=\"348\" height=\"100\" /></p>"
   ]
  },
  {
   "cell_type": "markdown",
   "metadata": {},
   "source": [
    "<p><strong>Algebraic operations</strong></p>\n",
    "<p>The np.dot(x,y) returns the matrix product between the arrays passed as parameter. The resulting shape depends on the original shapes of the arguments that have to be coherent with th operation performed</p>"
   ]
  },
  {
   "cell_type": "code",
   "execution_count": 14,
   "metadata": {},
   "outputs": [
    {
     "data": {
      "text/plain": [
       "7"
      ]
     },
     "execution_count": 14,
     "metadata": {},
     "output_type": "execute_result"
    }
   ],
   "source": [
    "x = np.array([1, 2, 3])\n",
    "y = np.array([0, 2, 1])\n",
    "\n",
    "np.dot(x,y)"
   ]
  },
  {
   "cell_type": "markdown",
   "metadata": {},
   "source": [
    "<p><img src=\"./img/n14.png\" alt=\"\" width=\"225\" height=\"100\" /></p>"
   ]
  },
  {
   "cell_type": "code",
   "execution_count": 15,
   "metadata": {},
   "outputs": [
    {
     "data": {
      "text/plain": [
       "array([ 5, 10])"
      ]
     },
     "execution_count": 15,
     "metadata": {},
     "output_type": "execute_result"
    }
   ],
   "source": [
    "x = np.array([[1, 1], [2, 2]])\n",
    "y = np.array([2, 3])\n",
    "\n",
    "np.dot(x,y)"
   ]
  },
  {
   "cell_type": "markdown",
   "metadata": {},
   "source": [
    "<p><img src=\"./img/n15.png\" alt=\"\" width=\"250\" height=\"100\" /></p>"
   ]
  },
  {
   "cell_type": "code",
   "execution_count": 16,
   "metadata": {},
   "outputs": [
    {
     "data": {
      "text/plain": [
       "array([[3, 3],\n",
       "       [6, 6]])"
      ]
     },
     "execution_count": 16,
     "metadata": {},
     "output_type": "execute_result"
    }
   ],
   "source": [
    "x = np.array([[1, 1], [2, 2]])\n",
    "y = np.array([[2, 2], [1, 1]])\n",
    "\n",
    "np.dot(x,y)"
   ]
  },
  {
   "cell_type": "markdown",
   "metadata": {},
   "source": [
    "<p><img src=\"./img/n16.png\" alt=\"\" width=\"350\" height=\"100\" /></p>"
   ]
  },
  {
   "cell_type": "markdown",
   "metadata": {},
   "source": [
    "### Example"
   ]
  },
  {
   "cell_type": "markdown",
   "metadata": {},
   "source": [
    "## Broadcasting"
   ]
  },
  {
   "cell_type": "markdown",
   "metadata": {},
   "source": [
    "<p>The concept of broadcasting is extremely useful when there is the need to perform operations between arrays with <strong>different shapes</strong></p>"
   ]
  },
  {
   "cell_type": "markdown",
   "metadata": {},
   "source": [
    "<p><img src=\"./img/n17.png\" alt=\"\" width=\"500\" height=\"100\" /></p>"
   ]
  },
  {
   "cell_type": "markdown",
   "metadata": {},
   "source": [
    "<ol>\n",
    "<li>The shape of the array with&nbsp;<strong>fewer dimensions</strong> is&nbsp;<strong>padded&nbsp;</strong>with leading ones</li>\n",
    "<li>If the shape along a dimension is 1 for one of the arrays, and &gt;1 for the other, the smaller array is&nbsp;<strong>stretched to match to other array</strong></li>\n",
    "<li>If there is a dimension where both arrays have shape &gt;1 broadcasting&nbsp;<strong>cannot be performed</strong></li>\n",
    "</ol>"
   ]
  },
  {
   "cell_type": "code",
   "execution_count": null,
   "metadata": {},
   "outputs": [],
   "source": []
  }
 ],
 "metadata": {
  "kernelspec": {
   "display_name": "Python 3",
   "language": "python",
   "name": "python3"
  },
  "language_info": {
   "codemirror_mode": {
    "name": "ipython",
    "version": 3
   },
   "file_extension": ".py",
   "mimetype": "text/x-python",
   "name": "python",
   "nbconvert_exporter": "python",
   "pygments_lexer": "ipython3",
   "version": "3.8.5"
  }
 },
 "nbformat": 4,
 "nbformat_minor": 4
}
