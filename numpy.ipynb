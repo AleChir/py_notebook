{
 "cells": [
  {
   "cell_type": "markdown",
   "metadata": {},
   "source": [
    "# Numpy"
   ]
  },
  {
   "cell_type": "markdown",
   "metadata": {},
   "source": [
    "## Arrays"
   ]
  },
  {
   "cell_type": "markdown",
   "metadata": {},
   "source": [
    "<p>Numpy arrays are fixed-type contiguous collections with high flexibility and efficiency in indexing methods and operations. There are several data types that can be used for arrays, the most common are:</p>\n",
    "<ul>\n",
    "<li><em>int8, int16, int32, int64</em></li>\n",
    "<li><em>uint8, uint16, uint32, uint64</em></li>\n",
    "<li><em>float16, float16, float64</em></li>\n",
    "<li><em>complex64, complex128</em></li>\n",
    "<li><em>bool</em></li>\n",
    "</ul>\n",
    "<p><strong>Multidimensiona arrays</strong></p>\n",
    "<p>Each array is characterized by a set of&nbsp;<strong>axes&nbsp;</strong>and a&nbsp;<strong>shape</strong>. The axes of an array define its dimensions:</p>\n",
    "<ul>\n",
    "<li>a row vectos has 1 axis</li>\n",
    "<li>a 2D matrix has 2 axes</li>\n",
    "<li>a ND array has N axes</li>\n",
    "</ul>\n",
    "<p><img src=\"./img/n2.png\" alt=\"\" width=\"348\" height=\"100\" /></p>\n",
    "<p>Axes can be numbered with negative values, the axis with index -1 is always along the <strong>row</strong>, while the last dimension added always take the lowest value (with sign) both with positive and negative indexing.</p>\n",
    "<p>The <strong>shape</strong> of an array is a tuple that specifies the number of elements along each axis. a column vector is a 2D matrix.</p>\n",
    "<p><img src=\"./img/n3.png\" alt=\"\" width=\"348\" height=\"100\" /></p>\n",
    "<p><img src=\"./img/n4.png\" alt=\"\" width=\"348\" height=\"100\" /></p>"
   ]
  },
  {
   "cell_type": "code",
   "execution_count": 5,
   "metadata": {},
   "outputs": [
    {
     "data": {
      "text/plain": [
       "array([[1, 2, 3],\n",
       "       [4, 5, 6],\n",
       "       [7, 8, 9]], dtype=uint8)"
      ]
     },
     "execution_count": 5,
     "metadata": {},
     "output_type": "execute_result"
    }
   ],
   "source": [
    "import numpy as np\n",
    "\n",
    "matrix = [[1, 2, 3], \n",
    "          [4, 5, 6], \n",
    "          [7, 8, 9]]\n",
    "\n",
    "np.array(matrix, dtype=np.uint8)"
   ]
  },
  {
   "cell_type": "code",
   "execution_count": 15,
   "metadata": {},
   "outputs": [
    {
     "name": "stdout",
     "output_type": "stream",
     "text": [
      "[[0 0 0]\n",
      " [0 0 0]]\n",
      "\n",
      "[[1 1 1]\n",
      " [1 1 1]]\n",
      "\n",
      "[[10 10 10]\n",
      " [10 10 10]\n",
      " [10 10 10]]\n",
      "\n"
     ]
    }
   ],
   "source": [
    "null_matrix = np.zeros((2, 3), dtype=np.int8)\n",
    "id_matrix = np.ones((2, 3), dtype=np.int8)\n",
    "full_matrix = np.full((3, 3), 10, dtype=np.int8)\n",
    "\n",
    "print(null_matrix, end='\\n\\n')\n",
    "print(id_matrix, end='\\n\\n')\n",
    "print(full_matrix, end='\\n\\n')"
   ]
  },
  {
   "cell_type": "code",
   "execution_count": 22,
   "metadata": {},
   "outputs": [
    {
     "name": "stdout",
     "output_type": "stream",
     "text": [
      "[0.         0.11111111 0.22222222 0.33333333 0.44444444 0.55555556\n",
      " 0.66666667 0.77777778 0.88888889 1.        ]\n",
      "\n",
      "[10 12 14 16 18 20]\n",
      "\n",
      "[[6.85297424 3.45181087 4.60646984]\n",
      " [2.79465194 6.17277103 4.63421926]]\n",
      "\n",
      "[[0.30015284 0.24675824 0.65499347 0.65107258]\n",
      " [0.91260191 0.19759293 0.35468297 0.46651739]\n",
      " [0.36234707 0.69808161 0.75283637 0.19247025]]\n",
      "\n"
     ]
    }
   ],
   "source": [
    "#10 sample in range 0-1\n",
    "linear = np.linspace(0, 1, 10)\n",
    "\n",
    "#Sequence 10-20 with step 2\n",
    "step_2 = np.arange(10, 21, 2)\n",
    "\n",
    "#Random (2,3) matrix with normal distribution µ=5 std=2\n",
    "gauss_matrix = np.random.normal(5, 2, (2,3)) \n",
    "\n",
    "#Random (3,4) matrix with uniform distribution on [0,1]\n",
    "uniform_matrix = np.random.random((3, 4))\n",
    "\n",
    "print(linear, end='\\n\\n')\n",
    "print(step_2, end='\\n\\n')\n",
    "print(gauss_matrix, end='\\n\\n')\n",
    "print(uniform_matrix, end='\\n\\n')"
   ]
  },
  {
   "cell_type": "code",
   "execution_count": 26,
   "metadata": {},
   "outputs": [
    {
     "name": "stdout",
     "output_type": "stream",
     "text": [
      "2 (2, 3) 6\n"
     ]
    }
   ],
   "source": [
    "x = np.array([[2, 3, 4], [8, 6, 7]])\n",
    "dimensions = x.ndim \n",
    "matrix_shape = x.shape\n",
    "matrix_size = x.size\n",
    "\n",
    "print(dimensions, matrix_shape, matrix_size)"
   ]
  },
  {
   "cell_type": "markdown",
   "metadata": {},
   "source": [
    "## Computation on Numpy"
   ]
  },
  {
   "cell_type": "markdown",
   "metadata": {},
   "source": [
    "<p><strong>Universal Functions (element-wise)</strong></p>\n",
    "<ul>\n",
    "<li><strong>Binary</strong> operations with arrays of the <strong>same shape</strong><br />\n",
    "<ul>\n",
    "<li>sum &amp; subtraction (+ -)</li>\n",
    "<li>multiplication &amp; division (* /)</li>\n",
    "<li>modulus (%)</li>\n",
    "<li>floor division (//)</li>\n",
    "<li>exponentiation (**)</li>\n",
    "<p><img src=\"./img/n5.png\" alt=\"\" width=\"348\" height=\"100\" /></p>\n",
    "</ul>\n",
    "</li>\n",
    "<li><strong>Unary&nbsp;</strong>operations (apply the operation separately to each element of the array)\n",
    "<ul>\n",
    "<li>np.abs(x)</li>\n",
    "<li>np.exp(x), np.log(x), np.log2(x), np.log10(x)</li>\n",
    "<li>np.sin(x), np.cos(x), np.tan(x), np.arctan(x)</li>\n",
    "<li>...</li>\n",
    "<p><img src=\"./img/n6.png\" alt=\"\" width=\"348\" height=\"100\" /></p>\n",
    "</ul>\n",
    "</li>\n",
    "</ul>"
   ]
  },
  {
   "cell_type": "code",
   "execution_count": 48,
   "metadata": {},
   "outputs": [
    {
     "name": "stdout",
     "output_type": "stream",
     "text": [
      "x * y = \n",
      "[[ 3  8]\n",
      " [10 12]]\n",
      "\n",
      "exp(x) = \n",
      "[[2.71828183 7.3890561 ]\n",
      " [7.3890561  7.3890561 ]]\n"
     ]
    }
   ],
   "source": [
    "x = np.array([[1, 2], [2, 2]])\n",
    "y = np.array([[3, 4], [5, 6]])\n",
    "\n",
    "print(f\"x * y = \\n{x*y}\\n\")\n",
    "print(f\"exp(x) = \\n{np.exp(x)}\")"
   ]
  },
  {
   "cell_type": "code",
   "execution_count": null,
   "metadata": {},
   "outputs": [],
   "source": []
  }
 ],
 "metadata": {
  "kernelspec": {
   "display_name": "Python 3",
   "language": "python",
   "name": "python3"
  },
  "language_info": {
   "codemirror_mode": {
    "name": "ipython",
    "version": 3
   },
   "file_extension": ".py",
   "mimetype": "text/x-python",
   "name": "python",
   "nbconvert_exporter": "python",
   "pygments_lexer": "ipython3",
   "version": "3.8.5"
  }
 },
 "nbformat": 4,
 "nbformat_minor": 4
}
